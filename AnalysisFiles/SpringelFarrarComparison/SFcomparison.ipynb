{
 "metadata": {
  "name": "SFcomparison.ipynb"
 },
 "nbformat": 3,
 "nbformat_minor": 0,
 "worksheets": [
  {
   "cells": [
    {
     "cell_type": "markdown",
     "metadata": {},
     "source": [
      "The purpose of this code is to compare the Dawson (2012) merging cluster model\n",
      "predictions with they Springel and Farrar (2007) results of hydrodynamics\n",
      "simulations of the Bullet Cluster.\n",
      "\n",
      "Since my model takes observed parameters as input (e.g. mass of the subclusters,\n",
      "projected separation in the observed state, and relative velocity in the\n",
      "observed state) I will treat their \"observed state\" as input and calculate my \n",
      "model's predictions of the Time-Since-Collision (TSC) and relative velocity \n",
      "throughout the merger (from collison state to observed state). The choice for\n",
      "these tow parameters is because Springle and Farrar (2007) plot these\n",
      "parameters in figure 4.\n",
      "\n",
      "The code is reflective of MCMAC v0.1 ([git://github.com/MCTwo/MCMAC.git](git://github.com/MCTwo/MCMAC.git))."
     ]
    },
    {
     "cell_type": "code",
     "collapsed": false,
     "input": [
      "from __future__ import division\n",
      "import numpy\n",
      "import scipy.integrate\n",
      "import pickle\n",
      "import profiles\n",
      "import time\n",
      "import sys\n",
      "import cosmo"
     ],
     "language": "python",
     "metadata": {},
     "outputs": [],
     "prompt_number": 1
    },
    {
     "cell_type": "markdown",
     "metadata": {},
     "source": [
      "# User Inputs"
     ]
    },
    {
     "cell_type": "markdown",
     "metadata": {},
     "source": [
      "The following inputs are extracted from the Springel & Farrar (2007) paper, unless noted otherwise."
     ]
    },
    {
     "cell_type": "markdown",
     "metadata": {},
     "source": [
      "NFW properties of each subcluster halo."
     ]
    },
    {
     "cell_type": "code",
     "collapsed": false,
     "input": [
      "# mass of each subcluster\n",
      "m_1 = 1.5e15\n",
      "m_2 = 1.5e14\n",
      "# concentration of each subcluster\n",
      "c_1 = 7.2\n",
      "c_2 = 2.0\n",
      "# redshift of each subcluster\n",
      "z_1 = 0.29560\n",
      "z_2 = 0.29826"
     ],
     "language": "python",
     "metadata": {},
     "outputs": [],
     "prompt_number": 3
    },
    {
     "cell_type": "markdown",
     "metadata": {},
     "source": [
      "Springel & Farrar (2007) results for their Bullet Cluster hydrodynamic simulations.  The results are taken from Figure 4 (see [Springel 2007 MNRAS fig4.pdf]( https://github.com/wadawson/merging-cluster-dynamics-paper/blob/SFcomparison/AnalysisFiles/SpringelFarrarComparison/Springel%202007%20MNRAS%20fig4.pdf))."
     ]
    },
    {
     "cell_type": "code",
     "collapsed": false,
     "input": [
      "# merger simulation times\n",
      "times = (1163,1180,1200,1220,1240,1260,1280,1300,1320,1340,1360,1380,1400,1420,\n",
      "         1440,1460,1480,1500)\n",
      "# main-subcluster centroid relative separations\n",
      "x_p_inch = (0,0.12,0.26,0.41,0.55,0.66,0.79,0.90,1.01,1.11,1.21,1.31,1.40,1.49,\n",
      "            1.57,1.66,1.74,1.81)\n",
      "# subcluster mass centroid velocity relative to center of mass\n",
      "# note that this is approximatly = to the velocity relative to the main cluster\n",
      "v_x_inch = (1.76,1.74,1.70,1.64,1.56,1.47,1.37,1.27,1.16,1.06,0.97,0.88,0.81,\n",
      "            0.73,0.65,0.59,0.52,0.46)"
     ],
     "language": "python",
     "metadata": {},
     "outputs": [],
     "prompt_number": 4
    },
    {
     "cell_type": "code",
     "collapsed": false,
     "input": [
      "# convert measured quantaties into physical units (yes I realize that inches\n",
      "# are physical units)\n",
      "# scales of each figure\n",
      "inch2Mpc = 1.2/2.15\n",
      "inch2kms = 2500/2.33\n",
      "#zero pointing at time of collision and put in units of Gyr\n",
      "times = (numpy.array(times)-times[0])/1000 \n",
      "x_p_inch = numpy.array(x_p_inch)\n",
      "x_p_Mpc = x_p_inch*inch2Mpc\n",
      "v_x_inch = numpy.array(v_x_inch)\n",
      "v_x_kms = v_x_inch*inch2kms+1500"
     ],
     "language": "python",
     "metadata": {},
     "outputs": []
    },
    {
     "cell_type": "markdown",
     "metadata": {},
     "source": [
      "The following inputs are specific to this compariative study.  The v_3d_obs and d_3d inputs define the parameter values at the \"observed\" state. The parameters of both the hydrodynamic analysis and MCMAC analysis will be set equal at this state and divergence will be compaired at other phases of the merger. The del_mesh and TSM_mesh are resolution settings for the MCMAC algorithims."
     ]
    },
    {
     "cell_type": "code",
     "collapsed": false,
     "input": [
      "# 3D relative velocity of the subclusters in the \"observed\" state\n",
      "v_3d_obs = 2700\n",
      "# 3D separation of the subclusters in the \"observed\" state\n",
      "d_3d = 0.62\n",
      "# MCMAC analysis resolution parameters\n",
      "del_mesh=200\n",
      "TSM_mesh=400"
     ],
     "language": "python",
     "metadata": {},
     "outputs": []
    },
    {
     "cell_type": "markdown",
     "metadata": {},
     "source": [
      "Constants and conversions"
     ]
    },
    {
     "cell_type": "code",
     "collapsed": false,
     "input": [
      "G = 4.3*10**(-9) #newton's constant in units of Mpc*(km/s)**2 / M_sun\n",
      "c = 3e5 #speed of light km/s\n",
      "sinGyr = 31556926.*10**9 # s in a Giga-year\n",
      "kginMsun = 1.98892*10**30 # kg in a solar mass\n",
      "kminMpc = 3.08568025*10**19 # km in a Megaparsec\n",
      "minMpc = 3.08568025*10**22 # m in a Megaparsec            \n",
      "r2d = 180/numpy.pi # radians to degrees conversion factor"
     ],
     "language": "python",
     "metadata": {},
     "outputs": []
    },
    {
     "cell_type": "markdown",
     "metadata": {},
     "source": [
      "# Functions"
     ]
    },
    {
     "cell_type": "code",
     "collapsed": false,
     "input": [
      "def NFWprop(M_200,z,c):\n",
      "    '''\n",
      "    Determines the NFW halo related properties. Added this for the case of user\n",
      "    specified concentration.\n",
      "    Input:\n",
      "    M_200 = [float; units:M_sun] mass of the halo. Assumes M_200 with\n",
      "        respect to the critical density at the halo redshift.    \n",
      "    z = [float; unitless] redshift of the halo.\n",
      "    c = [float; unitless] concentration of the NFW halo.\n",
      "    '''\n",
      "    # CONSTANTS\n",
      "    rho_cr = cosmo.rhoCrit(z)/kginMsun*minMpc**3\n",
      "    #calculate the r_200 radius\n",
      "    r_200 = (M_200*3/(4*numpy.pi*200*rho_cr))**(1/3.)\n",
      "    del_c = 200/3.*c**3/(numpy.log(1+c)-c/(1+c))\n",
      "    r_s = r_200/c\n",
      "    rho_s = del_c*rho_cr   \n",
      "    return del_c, r_s, r_200, c, rho_s"
     ],
     "language": "python",
     "metadata": {},
     "outputs": [],
     "prompt_number": 5
    },
    {
     "cell_type": "code",
     "collapsed": false,
     "input": [
      "def f(x,a,b):\n",
      "    '''\n",
      "    This is the functional form of the time since merger integral for two point\n",
      "    masses.\n",
      "    '''\n",
      "    return 1/numpy.sqrt(a+b/x)"
     ],
     "language": "python",
     "metadata": {},
     "outputs": [],
     "prompt_number": 6
    },
    {
     "cell_type": "code",
     "collapsed": false,
     "input": [
      "def TSMptpt(m_1,m_2,r_200_1,r_200_2,d_end,E):\n",
      "    '''\n",
      "    This function calculates the time it takes for the system to go from a\n",
      "    separation of r_200_1+r_200_2 to d_end. It is based on the equations of\n",
      "    motion of two point masses, which is valid in the regime where the \n",
      "    subclusters no longer overlap.\n",
      "    Input:\n",
      "    m_1 = [float; units: M_sun] mass of subcluster 1\n",
      "    m_2 = [float; units: M_sun] mass of subcluster 2\n",
      "    r_200_1 = [float; units: Mpc] NFW r_200 radius of subcluster 1\n",
      "    r_200_2 = [float; units: Mpc] NFW r_200 radius of subcluster 2\n",
      "    d_end = [float; units: Mpc] the final separation of interest\n",
      "    E = [float; units: (km/s)^2*M_sun] the total energy (PE+KE) of the two \n",
      "        subcluster system\n",
      "    Output:\n",
      "    t = [float; units: Gyr] the time it takes for the system to go from a\n",
      "        separation of r_200_1+r_200_2 to d_end\n",
      "    '''\n",
      "    d_start = r_200_1+r_200_2\n",
      "    C = G*m_1*m_2\n",
      "    mu = m_1*m_2/(m_1+m_2)\n",
      "    if E < 0:\n",
      "        integral = scipy.integrate.quad(lambda x: f(x,E,C),d_start,d_end)[0]\n",
      "        t = numpy.sqrt(mu/2)*integral/sinGyr*kminMpc        \n",
      "    else:\n",
      "        print 'TSMptpt: error total energy should not be > 0, exiting'\n",
      "        sys.exit()\n",
      "    if t < 0:\n",
      "        print 'TSM < 0 encountered'    \n",
      "    return t"
     ],
     "language": "python",
     "metadata": {},
     "outputs": [],
     "prompt_number": 7
    },
    {
     "cell_type": "code",
     "collapsed": false,
     "input": [
      "def PEnfwnfw(d,m_1,rho_s_1,r_s_1,r_200_1,m_2,rho_s_2,r_s_2,r_200_2,N=100):\n",
      "    '''\n",
      "    This function calculates the potential energy of two truncated NFW halos.\n",
      "    Input:\n",
      "    d = [float; units:Mpc] center to center 3D separation of the subclusters\n",
      "    m_1 = [float; units:M_sun] mass of subcluster 1 out to r_200\n",
      "    rho_s_1 = [float; units:M_sun/Mpc^3] NFW scale density of subcluster 1\n",
      "    r_s_1 = [float; units:Mpc] NFW scale radius of subcluster 1\n",
      "    r_200_1 = [float; units:Mpc] r_200 of subcluster 1\n",
      "    m_2 = [float; units:M_sun] mass of subcluster 2 out to r_200\n",
      "    rho_s_2 = [float; units:M_sun/Mpc^3] NFW scale density of subcluster 2\n",
      "    r_s_2 = [float; units:Mpc] NFW scale radius of subcluster 2\n",
      "    r_200_2 = [float; units:Mpc] r_200 of subcluster 2\n",
      "    N = [int] number of mass elements along one coordinate axis for numerical\n",
      "        integration approximation\n",
      "    Output:\n",
      "    V_total = [float; units:(km/s)^2*M_sun] total potential energy of the two\n",
      "        subcluster system\n",
      "    '''\n",
      "    if d >= r_200_1+r_200_2:\n",
      "        V_total = -G*m_1*m_2/d\n",
      "    else:\n",
      "        # mass element sizes\n",
      "        dr = r_200_2/N\n",
      "        dt = numpy.pi/N\n",
      "        i,j = numpy.meshgrid(numpy.arange(N),numpy.arange(N))\n",
      "        # distance of 2nd NFW halo mass element from center of 1st NFW halo\n",
      "        r = numpy.sqrt(((2*i+1)*dr/2*numpy.sin((2*j+1)*dt/2))**2+\n",
      "                       (d+(2*i+1)*dr/2*numpy.cos((2*j+1)*dt/2))**2)\n",
      "        #mass elements of 2nd NFW halo  \n",
      "        m = 2*numpy.pi*rho_s_2*r_s_2**3*(numpy.cos(j*dt)-numpy.cos((j+1)*dt))\\\n",
      "        *(1/(1+(i+1)*dr/r_s_2)-1/(1+i*dr/r_s_2)+numpy.log(((i+1)*dr+r_s_2)\\\n",
      "        /(i*dr+r_s_2)))\n",
      "        #determine if 2nd halo mass element is inside or outside of 1st halo\n",
      "        mask_gt = r>=r_200_1\n",
      "        mask_lt = r<r_200_1\n",
      "        # potential energy of each mass element (km/s)^2 * M_sun\n",
      "        # NFW PE\n",
      "        V_nfw = numpy.sum(-4*numpy.pi*G*rho_s_1*r_s_1**3/(r[mask_lt]+dr)*\\\n",
      "        (numpy.log(1+(r[mask_lt]+dr)/r_s_1)-(r[mask_lt]+dr)/(r_s_1+r_200_1))*\\\n",
      "        m[mask_lt])\n",
      "        # Point mass PE\n",
      "        V_pt = numpy.sum(-G*m_1*m[mask_gt]/r[mask_gt])\n",
      "        V_total = V_nfw+V_pt\n",
      "    return V_total"
     ],
     "language": "python",
     "metadata": {},
     "outputs": [],
     "prompt_number": 8
    },
    {
     "cell_type": "markdown",
     "metadata": {},
     "source": [
      "# Analysis"
     ]
    },
    {
     "cell_type": "code",
     "collapsed": false,
     "input": [
      "# Define NFW halo properties\n",
      "del_c_1, r_s_1, r_200_1, c_1, rho_s_1 = NFWprop(m_1,z_1,c_1)\n",
      "del_c_2, r_s_2, r_200_2, c_2, rho_s_2 = NFWprop(m_2,z_2,c_2)"
     ],
     "language": "python",
     "metadata": {},
     "outputs": []
    },
    {
     "cell_type": "code",
     "collapsed": false,
     "input": [
      "# Calculate the potential energy at observed time\n",
      "PE_obs = PEnfwnfw(d_3d,m_1,rho_s_1,r_s_1,r_200_1,m_2,rho_s_2,r_s_2,r_200_2,N=del_mesh)"
     ],
     "language": "python",
     "metadata": {},
     "outputs": []
    },
    {
     "cell_type": "code",
     "collapsed": false,
     "input": [
      "# Reduced mass\n",
      "mu = m_1*m_2/(m_1+m_2)"
     ],
     "language": "python",
     "metadata": {},
     "outputs": []
    },
    {
     "cell_type": "code",
     "collapsed": false,
     "input": [
      "# Total Energy\n",
      "E = PE_obs+mu/2*v_3d_obs**2"
     ],
     "language": "python",
     "metadata": {},
     "outputs": []
    },
    {
     "cell_type": "code",
     "collapsed": false,
     "input": [
      "#*# Need to modify this original code from MCMAC to accomplish the comparison\n",
      "#*# task at hand.\n",
      "\n",
      "# Calculate PE from d = 0 to r_200_1+r_200_2\n",
      "del_TSM_mesh = (r_200_1+r_200_2)/(TSM_mesh-1)\n",
      "d = numpy.arange(0.00001,(r_200_1+r_200_2)+del_TSM_mesh,del_TSM_mesh)\n",
      "PE_array = numpy.zeros(TSM_mesh)\n",
      "for j in numpy.arange(TSM_mesh):\n",
      "    PE_array[j] = PEnfwnfw(d[j],m_1,rho_s_1,r_s_1,r_200_1,m_2,rho_s_2,r_s_2,\n",
      "                           r_200_2,N=del_mesh)\n",
      "\n",
      "#*# Need to modify this original code to calculate the velocity various times\n",
      "#*# during the merger (from t_col to t_obs)\n",
      "\n",
      "# Calculate the 3D velocity at collision time\n",
      "v_3d_col = numpy.sqrt(v_3d_obs**2+2/mu*(PE_obs-PE_col))\n",
      "\n",
      "#*# Need to modify this original code to calculate TSM throughout the merger\n",
      "#*# phase from (t_col to t_obs)\n",
      "\n",
      "# Calculate TSM_0\n",
      "if d_3d >= r_200_1+r_200_2:\n",
      "    # then halos no longer overlap\n",
      "    # calculate the time it takes to go from d=0 to r_200_1+r_200_2\n",
      "    TSM_0a = numpy.sum(del_TSM_mesh/numpy.sqrt(2/mu*(E-PE_array))*kminMpc/sinGyr)\n",
      "    # calculate th time it takes to go from d = r_200_1+r_200_2 tp d_3d\n",
      "    TSM_0b = TSMptpt(m_1,m_2,r_200_1,r_200_2,d_3d,E)\n",
      "    TSM_0 = TSM_0a+TSM_0b\n",
      "else:\n",
      "    # then d_3d < r_200_1+r_200_2, halos always overlap\n",
      "    # calculate the time it takes to go from d=0 to d_3d            \n",
      "    mask = d <= d_3d\n",
      "    TSM_0 = numpy.sum(del_TSM_mesh/numpy.sqrt(2/mu*(E-PE_array[mask]))*\\\n",
      "    kminMpc/sinGyr)"
     ],
     "language": "python",
     "metadata": {},
     "outputs": []
    }
   ],
   "metadata": {}
  }
 ]
}